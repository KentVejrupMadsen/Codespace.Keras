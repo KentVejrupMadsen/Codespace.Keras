{
 "cells": [
  {
   "cell_type": "markdown",
   "source": [
    "# Notebook for training dataset\n",
    "## preliminaries\n"
   ],
   "metadata": {
    "collapsed": false
   }
  },
  {
   "cell_type": "code",
   "execution_count": 2,
   "outputs": [
    {
     "name": "stdout",
     "output_type": "stream",
     "text": [
      "Collecting tensorflow\r\n",
      "  Downloading tensorflow-2.11.0-cp38-cp38-manylinux_2_17_x86_64.manylinux2014_x86_64.whl (588.3 MB)\r\n",
      "\u001B[K     |████████████████████████████████| 588.3 MB 56 kB/s s eta 0:00:01  |▏                               | 3.3 MB 4.0 MB/s eta 0:02:27     |████████████                    | 220.1 MB 3.5 MB/s eta 0:01:46     |████████████████████████▉       | 456.3 MB 17.5 MB/s eta 0:00:08\r\n",
      "\u001B[?25hCollecting google-pasta>=0.1.1\r\n",
      "  Downloading google_pasta-0.2.0-py3-none-any.whl (57 kB)\r\n",
      "\u001B[K     |████████████████████████████████| 57 kB 3.7 MB/s eta 0:00:01\r\n",
      "\u001B[?25hRequirement already satisfied: numpy>=1.20 in /home/madsen/.local/lib/python3.8/site-packages (from tensorflow) (1.24.2)\r\n",
      "Collecting grpcio<2.0,>=1.24.3\r\n",
      "  Downloading grpcio-1.51.3-cp38-cp38-manylinux_2_17_x86_64.manylinux2014_x86_64.whl (4.8 MB)\r\n",
      "\u001B[K     |████████████████████████████████| 4.8 MB 7.7 MB/s eta 0:00:01\r\n",
      "\u001B[?25hCollecting tensorflow-io-gcs-filesystem>=0.23.1; platform_machine != \"arm64\" or platform_system != \"Darwin\"\r\n",
      "  Downloading tensorflow_io_gcs_filesystem-0.31.0-cp38-cp38-manylinux_2_12_x86_64.manylinux2010_x86_64.whl (2.4 MB)\r\n",
      "\u001B[K     |████████████████████████████████| 2.4 MB 4.5 MB/s eta 0:00:01\r\n",
      "\u001B[?25hCollecting absl-py>=1.0.0\r\n",
      "  Downloading absl_py-1.4.0-py3-none-any.whl (126 kB)\r\n",
      "\u001B[K     |████████████████████████████████| 126 kB 6.3 MB/s eta 0:00:01\r\n",
      "\u001B[?25hRequirement already satisfied: setuptools in /usr/lib/python3/dist-packages (from tensorflow) (45.2.0)\r\n",
      "Collecting libclang>=13.0.0\r\n",
      "  Downloading libclang-15.0.6.1-py2.py3-none-manylinux2010_x86_64.whl (21.5 MB)\r\n",
      "\u001B[K     |████████████████████████████████| 21.5 MB 5.1 MB/s eta 0:00:01\r\n",
      "\u001B[?25hCollecting astunparse>=1.6.0\r\n",
      "  Downloading astunparse-1.6.3-py2.py3-none-any.whl (12 kB)\r\n",
      "Requirement already satisfied: packaging in /home/madsen/.local/lib/python3.8/site-packages (from tensorflow) (23.0)\r\n",
      "Collecting keras<2.12,>=2.11.0\r\n",
      "  Downloading keras-2.11.0-py2.py3-none-any.whl (1.7 MB)\r\n",
      "\u001B[K     |████████████████████████████████| 1.7 MB 6.1 MB/s eta 0:00:01\r\n",
      "\u001B[?25hCollecting flatbuffers>=2.0\r\n",
      "  Downloading flatbuffers-23.1.21-py2.py3-none-any.whl (26 kB)\r\n",
      "Collecting protobuf<3.20,>=3.9.2\r\n",
      "  Downloading protobuf-3.19.6-cp38-cp38-manylinux_2_17_x86_64.manylinux2014_x86_64.whl (1.1 MB)\r\n",
      "\u001B[K     |████████████████████████████████| 1.1 MB 4.2 MB/s eta 0:00:01\r\n",
      "\u001B[?25hCollecting tensorflow-estimator<2.12,>=2.11.0\r\n",
      "  Downloading tensorflow_estimator-2.11.0-py2.py3-none-any.whl (439 kB)\r\n",
      "\u001B[K     |████████████████████████████████| 439 kB 7.4 MB/s eta 0:00:01\r\n",
      "\u001B[?25hCollecting wrapt>=1.11.0\r\n",
      "  Downloading wrapt-1.15.0-cp38-cp38-manylinux_2_5_x86_64.manylinux1_x86_64.manylinux_2_17_x86_64.manylinux2014_x86_64.whl (81 kB)\r\n",
      "\u001B[K     |████████████████████████████████| 81 kB 4.8 MB/s eta 0:00:01\r\n",
      "\u001B[?25hCollecting gast<=0.4.0,>=0.2.1\r\n",
      "  Downloading gast-0.4.0-py3-none-any.whl (9.8 kB)\r\n",
      "Collecting opt-einsum>=2.3.2\r\n",
      "  Downloading opt_einsum-3.3.0-py3-none-any.whl (65 kB)\r\n",
      "\u001B[K     |████████████████████████████████| 65 kB 3.7 MB/s eta 0:00:01\r\n",
      "\u001B[?25hCollecting h5py>=2.9.0\r\n",
      "  Downloading h5py-3.8.0-cp38-cp38-manylinux_2_17_x86_64.manylinux2014_x86_64.whl (4.7 MB)\r\n",
      "\u001B[K     |████████████████████████████████| 4.7 MB 6.6 MB/s eta 0:00:01\r\n",
      "\u001B[?25hCollecting tensorboard<2.12,>=2.11\r\n",
      "  Downloading tensorboard-2.11.2-py3-none-any.whl (6.0 MB)\r\n",
      "\u001B[K     |████████████████████████████████| 6.0 MB 6.3 MB/s eta 0:00:01\r\n",
      "\u001B[?25hCollecting termcolor>=1.1.0\r\n",
      "  Downloading termcolor-2.2.0-py3-none-any.whl (6.6 kB)\r\n",
      "Requirement already satisfied: typing-extensions>=3.6.6 in /home/madsen/.local/lib/python3.8/site-packages (from tensorflow) (4.5.0)\r\n",
      "Requirement already satisfied: six>=1.12.0 in /usr/lib/python3/dist-packages (from tensorflow) (1.14.0)\r\n",
      "Requirement already satisfied: wheel<1.0,>=0.23.0 in /usr/lib/python3/dist-packages (from astunparse>=1.6.0->tensorflow) (0.34.2)\r\n",
      "Collecting tensorboard-plugin-wit>=1.6.0\r\n",
      "  Downloading tensorboard_plugin_wit-1.8.1-py3-none-any.whl (781 kB)\r\n",
      "\u001B[K     |████████████████████████████████| 781 kB 5.4 MB/s eta 0:00:01\r\n",
      "\u001B[?25hCollecting google-auth<3,>=1.6.3\r\n",
      "  Downloading google_auth-2.16.1-py2.py3-none-any.whl (177 kB)\r\n",
      "\u001B[K     |████████████████████████████████| 177 kB 5.2 MB/s eta 0:00:01\r\n",
      "\u001B[?25hRequirement already satisfied: requests<3,>=2.21.0 in /usr/lib/python3/dist-packages (from tensorboard<2.12,>=2.11->tensorflow) (2.22.0)\r\n",
      "Collecting werkzeug>=1.0.1\r\n",
      "  Downloading Werkzeug-2.2.3-py3-none-any.whl (233 kB)\r\n",
      "\u001B[K     |████████████████████████████████| 233 kB 8.3 MB/s eta 0:00:01\r\n",
      "\u001B[?25hCollecting tensorboard-data-server<0.7.0,>=0.6.0\r\n",
      "  Downloading tensorboard_data_server-0.6.1-py3-none-manylinux2010_x86_64.whl (4.9 MB)\r\n",
      "\u001B[K     |████████████████████████████████| 4.9 MB 6.3 MB/s eta 0:00:01\r\n",
      "\u001B[?25hCollecting google-auth-oauthlib<0.5,>=0.4.1\r\n",
      "  Downloading google_auth_oauthlib-0.4.6-py2.py3-none-any.whl (18 kB)\r\n",
      "Collecting markdown>=2.6.8\r\n",
      "  Downloading Markdown-3.4.1-py3-none-any.whl (93 kB)\r\n",
      "\u001B[K     |████████████████████████████████| 93 kB 1.9 MB/s eta 0:00:011\r\n",
      "\u001B[?25hCollecting rsa<5,>=3.1.4; python_version >= \"3.6\"\r\n",
      "  Downloading rsa-4.9-py3-none-any.whl (34 kB)\r\n",
      "Collecting cachetools<6.0,>=2.0.0\r\n",
      "  Downloading cachetools-5.3.0-py3-none-any.whl (9.3 kB)\r\n",
      "Requirement already satisfied: pyasn1-modules>=0.2.1 in /usr/lib/python3/dist-packages (from google-auth<3,>=1.6.3->tensorboard<2.12,>=2.11->tensorflow) (0.2.1)\r\n",
      "Collecting MarkupSafe>=2.1.1\r\n",
      "  Using cached MarkupSafe-2.1.2-cp38-cp38-manylinux_2_17_x86_64.manylinux2014_x86_64.whl (25 kB)\r\n",
      "Collecting requests-oauthlib>=0.7.0\r\n",
      "  Downloading requests_oauthlib-1.3.1-py2.py3-none-any.whl (23 kB)\r\n",
      "Requirement already satisfied: importlib-metadata>=4.4; python_version < \"3.10\" in /home/madsen/.local/lib/python3.8/site-packages (from markdown>=2.6.8->tensorboard<2.12,>=2.11->tensorflow) (6.0.0)\r\n",
      "Requirement already satisfied: pyasn1>=0.1.3 in /usr/lib/python3/dist-packages (from rsa<5,>=3.1.4; python_version >= \"3.6\"->google-auth<3,>=1.6.3->tensorboard<2.12,>=2.11->tensorflow) (0.4.2)\r\n",
      "Requirement already satisfied: oauthlib>=3.0.0 in /usr/lib/python3/dist-packages (from requests-oauthlib>=0.7.0->google-auth-oauthlib<0.5,>=0.4.1->tensorboard<2.12,>=2.11->tensorflow) (3.1.0)\r\n",
      "Requirement already satisfied: zipp>=0.5 in /usr/lib/python3/dist-packages (from importlib-metadata>=4.4; python_version < \"3.10\"->markdown>=2.6.8->tensorboard<2.12,>=2.11->tensorflow) (1.0.0)\r\n",
      "\u001B[31mERROR: nbconvert 7.2.9 has requirement jinja2>=3.0, but you'll have jinja2 2.10.1 which is incompatible.\u001B[0m\r\n",
      "Installing collected packages: google-pasta, grpcio, tensorflow-io-gcs-filesystem, absl-py, libclang, astunparse, keras, flatbuffers, protobuf, tensorflow-estimator, wrapt, gast, opt-einsum, h5py, tensorboard-plugin-wit, rsa, cachetools, google-auth, MarkupSafe, werkzeug, tensorboard-data-server, requests-oauthlib, google-auth-oauthlib, markdown, tensorboard, termcolor, tensorflow\r\n",
      "  Attempting uninstall: MarkupSafe\r\n",
      "    Found existing installation: MarkupSafe 2.0.1\r\n",
      "    Uninstalling MarkupSafe-2.0.1:\r\n",
      "      Successfully uninstalled MarkupSafe-2.0.1\r\n",
      "Successfully installed MarkupSafe-2.1.2 absl-py-1.4.0 astunparse-1.6.3 cachetools-5.3.0 flatbuffers-23.1.21 gast-0.4.0 google-auth-2.16.1 google-auth-oauthlib-0.4.6 google-pasta-0.2.0 grpcio-1.51.3 h5py-3.8.0 keras-2.11.0 libclang-15.0.6.1 markdown-3.4.1 opt-einsum-3.3.0 protobuf-3.19.6 requests-oauthlib-1.3.1 rsa-4.9 tensorboard-2.11.2 tensorboard-data-server-0.6.1 tensorboard-plugin-wit-1.8.1 tensorflow-2.11.0 tensorflow-estimator-2.11.0 tensorflow-io-gcs-filesystem-0.31.0 termcolor-2.2.0 werkzeug-2.2.3 wrapt-1.15.0\r\n",
      "Requirement already satisfied: keras in /home/madsen/.local/lib/python3.8/site-packages (2.11.0)\r\n"
     ]
    }
   ],
   "source": [
    "!pip install tensorflow\n",
    "!pip install -q kaggle\n",
    "!pip install keras"
   ],
   "metadata": {
    "collapsed": false
   }
  },
  {
   "cell_type": "code",
   "execution_count": null,
   "outputs": [],
   "source": [
    "from google.colab import drive\n",
    "\n",
    "drive.mount('storage', force_remount=False)"
   ],
   "metadata": {
    "collapsed": false
   }
  },
  {
   "cell_type": "code",
   "execution_count": null,
   "outputs": [],
   "source": [],
   "metadata": {
    "collapsed": false
   }
  },
  {
   "cell_type": "code",
   "execution_count": null,
   "metadata": {
    "id": "vkJ8-SS8IvDQ"
   },
   "outputs": [],
   "source": [
    "!mkdir ~/.kaggle\n",
    "!echo '{\"username\":\"kentvejrupmadsen\",\"key\":\"1dd25b391bd38b0484af990dc9e7575b\"}' > ~/.kaggle/kaggle.json\n",
    "!chmod 600 ~/.kaggle/kaggle.json"
   ]
  },
  {
   "cell_type": "code",
   "execution_count": null,
   "metadata": {
    "id": "O3tpOVivJ_cJ"
   },
   "outputs": [],
   "source": [
    "!rm dataset -R\n",
    "\n",
    "!kaggle datasets download -d kentvejrupmadsen/letter-images-dataset\n",
    "!unzip letter-images-dataset.zip \n",
    "!rm letter-images-dataset.zip "
   ]
  },
  {
   "cell_type": "code",
   "execution_count": null,
   "metadata": {
    "id": "4MBpmUAjLSlH"
   },
   "outputs": [],
   "source": [
    "#!rm dataset -R\n",
    "!ls dataset"
   ]
  },
  {
   "cell_type": "code",
   "execution_count": null,
   "metadata": {
    "id": "vP58ZAIAw2zQ"
   },
   "outputs": [],
   "source": [
    "import tensorflow\n",
    "import keras\n",
    "\n",
    "import random\n",
    "\n",
    "from keras.utils \\\n",
    "    import image_dataset_from_directory\n",
    "\n",
    "import matplotlib.pyplot as plt\n",
    "\n",
    "\n",
    "batch_size = 32\n",
    "\n",
    "view_dimension = {\n",
    "    'height': 128, \n",
    "    'width': 128\n",
    "}\n",
    "\n",
    "view_size = (view_dimension['width'], view_dimension['height'])\n",
    "\n",
    "split_dataset_at = 0.35\n",
    "\n",
    "seed = random.randint(0, 2000000)\n",
    "\n",
    "training = image_dataset_from_directory(\n",
    "    'dataset/', \n",
    "    validation_split=split_dataset_at, \n",
    "    subset='training', \n",
    "    seed=seed, \n",
    "    image_size=view_size, \n",
    "    batch_size=batch_size\n",
    ")\n",
    "\n",
    "validation = image_dataset_from_directory(\n",
    "    'dataset/', \n",
    "    validation_split=split_dataset_at, \n",
    "    subset='validation', \n",
    "    seed=seed, \n",
    "    image_size=view_size, \n",
    "    batch_size=batch_size\n",
    ")\n",
    "\n",
    "categories = training.class_names"
   ]
  },
  {
   "cell_type": "code",
   "execution_count": null,
   "metadata": {
    "id": "oS7yKJLiwJZU",
    "pycharm": {
     "is_executing": true
    }
   },
   "outputs": [],
   "source": [
    "plt.figure(figsize=(10, 10))\n",
    "\n",
    "for images, labels in training.take(1):\n",
    "  for i in range(9):\n",
    "    ax = plt.subplot(3, 3, i + 1)\n",
    "    plt.imshow(images[i].numpy().astype(\"uint8\"))\n",
    "    plt.title(categories[labels[i]])\n",
    "    plt.axis(\"off\")"
   ]
  },
  {
   "cell_type": "code",
   "execution_count": 1,
   "metadata": {
    "id": "AlVa0_8RyPHM"
   },
   "outputs": [
    {
     "ename": "NameError",
     "evalue": "name 'tensorflow' is not defined",
     "output_type": "error",
     "traceback": [
      "\u001B[0;31m---------------------------------------------------------------------------\u001B[0m",
      "\u001B[0;31mNameError\u001B[0m                                 Traceback (most recent call last)",
      "Cell \u001B[0;32mIn[1], line 1\u001B[0m\n\u001B[0;32m----> 1\u001B[0m AUTOTUNE \u001B[38;5;241m=\u001B[39m \u001B[43mtensorflow\u001B[49m\u001B[38;5;241m.\u001B[39mdata\u001B[38;5;241m.\u001B[39mAUTOTUNE\n\u001B[1;32m      3\u001B[0m training\u001B[38;5;241m.\u001B[39mcache()\u001B[38;5;241m.\u001B[39mshuffle(\u001B[38;5;241m1000\u001B[39m)\u001B[38;5;241m.\u001B[39mprefetch(buffer_size\u001B[38;5;241m=\u001B[39mAUTOTUNE)\n\u001B[1;32m      4\u001B[0m validation\u001B[38;5;241m.\u001B[39mcache()\u001B[38;5;241m.\u001B[39mprefetch(buffer_size\u001B[38;5;241m=\u001B[39mAUTOTUNE)\n",
      "\u001B[0;31mNameError\u001B[0m: name 'tensorflow' is not defined"
     ]
    }
   ],
   "source": [
    "AUTOTUNE = tensorflow.data.AUTOTUNE\n",
    "\n",
    "training.cache().shuffle(1000).prefetch(buffer_size=AUTOTUNE)\n",
    "validation.cache().prefetch(buffer_size=AUTOTUNE)\n",
    "\n",
    "\n",
    "\n"
   ]
  },
  {
   "cell_type": "code",
   "execution_count": null,
   "metadata": {
    "id": "TS9TDFspwc8x"
   },
   "outputs": [],
   "source": [
    "drive.flush_and_unmount()"
   ]
  }
 ],
 "metadata": {
  "colab": {
   "private_outputs": true,
   "provenance": []
  },
  "gpuClass": "standard",
  "kernelspec": {
   "display_name": "Python 3 (ipykernel)",
   "language": "python",
   "name": "python3"
  },
  "language_info": {
   "codemirror_mode": {
    "name": "ipython",
    "version": 3
   },
   "file_extension": ".py",
   "mimetype": "text/x-python",
   "name": "python",
   "nbconvert_exporter": "python",
   "pygments_lexer": "ipython3",
   "version": "3.11.0"
  }
 },
 "nbformat": 4,
 "nbformat_minor": 1
}
